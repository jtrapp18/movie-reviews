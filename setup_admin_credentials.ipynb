{
  "cells": [
    {
      "cell_type": "markdown",
      "metadata": {},
      "source": [
        "# 🔐 Admin Credentials Setup\n",
        "\n",
        "This notebook securely sets up admin credentials for the movie review site.\n",
        "It will hash passwords and store them in a secure config file.\n"
      ]
    },
    {
      "cell_type": "code",
      "execution_count": 16,
      "metadata": {},
      "outputs": [],
      "source": [
        "import bcrypt\n",
        "import json\n",
        "import os\n",
        "from datetime import datetime\n",
        "\n",
        "# Install bcrypt if not already installed\n",
        "try:\n",
        "    import bcrypt\n",
        "except ImportError:\n",
        "    print(\"Installing bcrypt...\")\n",
        "    os.system(\"pip install bcrypt\")\n",
        "    import bcrypt\n"
      ]
    },
    {
      "cell_type": "markdown",
      "metadata": {},
      "source": [
        "## 1. Set Admin Credentials\n",
        "\n",
        "Enter the admin credentials below. These will be hashed and stored securely.\n"
      ]
    },
    {
      "cell_type": "code",
      "execution_count": 17,
      "metadata": {},
      "outputs": [
        {
          "name": "stdout",
          "output_type": "stream",
          "text": [
            "⚠️  IMPORTANT: Change the passwords above before running the next cell!\n",
            "Current credentials:\n",
            "  james: JamesPassword123!\n",
            "  admin: AdminPassword123!\n",
            "\n",
            "Note: Passwords must meet these requirements:\n",
            "  - At least 8 characters\n",
            "  - At least one uppercase letter\n",
            "  - At least one lowercase letter\n",
            "  - At least one number\n",
            "  - At least one special character\n"
          ]
        }
      ],
      "source": [
        "# Admin credentials - CHANGE THESE!\n",
        "ADMIN_CREDENTIALS = {\n",
        "    \"james\": {\n",
        "        \"username\": \"james\",\n",
        "        \"password\": \"JamesPassword123!\",  # Change this!\n",
        "        \"email\": \"james@example.com\",\n",
        "        \"phone_number\": \"1234567890\",\n",
        "        \"first_name\": \"James\",\n",
        "        \"last_name\": \"Trapp\",\n",
        "        \"zipcode\": \"12345\"\n",
        "    },\n",
        "    \"admin\": {\n",
        "        \"username\": \"admin\", \n",
        "        \"password\": \"AdminPassword123!\",  # Change this!\n",
        "        \"email\": \"admin@example.com\",\n",
        "        \"phone_number\": \"1234567890\",\n",
        "        \"first_name\": \"Admin\",\n",
        "        \"last_name\": \"User\",\n",
        "        \"zipcode\": \"12345\"\n",
        "    }\n",
        "}\n",
        "\n",
        "print(\"⚠️  IMPORTANT: Change the passwords above before running the next cell!\")\n",
        "print(\"Current credentials:\")\n",
        "for user, creds in ADMIN_CREDENTIALS.items():\n",
        "    print(f\"  {creds['username']}: {creds['password']}\")\n",
        "print(\"\\nNote: Passwords must meet these requirements:\")\n",
        "print(\"  - At least 8 characters\")\n",
        "print(\"  - At least one uppercase letter\")\n",
        "print(\"  - At least one lowercase letter\") \n",
        "print(\"  - At least one number\")\n",
        "print(\"  - At least one special character\")\n"
      ]
    },
    {
      "cell_type": "markdown",
      "metadata": {},
      "source": [
        "## 2. Create Admin Accounts Using Existing API\n",
        "\n",
        "We'll use the existing `/api/account_signup` endpoint to create admin accounts.\n"
      ]
    },
    {
      "cell_type": "code",
      "execution_count": 18,
      "metadata": {},
      "outputs": [
        {
          "name": "stdout",
          "output_type": "stream",
          "text": [
            "🚀 Creating admin accounts...\n",
            "==================================================\n",
            "\n",
            "Creating account for james...\n",
            "❌ Failed to create account james: {'error': {'username': 'Username already taken.', 'email': 'Email already registered.'}}\n",
            "\n",
            "Creating account for admin...\n",
            "❌ Failed to create account admin: {'error': {'username': 'Username already taken.', 'email': 'Email already registered.'}}\n",
            "\n",
            "🎉 Successfully created 0 admin accounts!\n",
            "Created: \n"
          ]
        }
      ],
      "source": [
        "import requests\n",
        "import json\n",
        "\n",
        "SERVER_URL = \"http://127.0.0.1:5555\"\n",
        "\n",
        "def create_admin_account(credentials):\n",
        "    \"\"\"Create an admin account using the existing signup API\"\"\"\n",
        "    url = f\"{SERVER_URL}/api/account_signup\"\n",
        "    \n",
        "    try:\n",
        "        response = requests.post(url, json=credentials)\n",
        "        \n",
        "        if response.status_code == 201:\n",
        "            print(f\"✅ Successfully created admin account: {credentials['username']}\")\n",
        "            return response.json()\n",
        "        else:\n",
        "            error_data = response.json()\n",
        "            print(f\"❌ Failed to create account {credentials['username']}: {error_data}\")\n",
        "            return None\n",
        "            \n",
        "    except requests.exceptions.ConnectionError:\n",
        "        print(f\"❌ Could not connect to server at {SERVER_URL}\")\n",
        "        print(\"Make sure the Flask server is running!\")\n",
        "        return None\n",
        "    except Exception as e:\n",
        "        print(f\"❌ Error creating account {credentials['username']}: {e}\")\n",
        "        return None\n",
        "\n",
        "# Create admin accounts\n",
        "print(\"🚀 Creating admin accounts...\")\n",
        "print(\"=\" * 50)\n",
        "\n",
        "created_accounts = []\n",
        "for user, creds in ADMIN_CREDENTIALS.items():\n",
        "    print(f\"\\nCreating account for {creds['username']}...\")\n",
        "    result = create_admin_account(creds)\n",
        "    if result:\n",
        "        created_accounts.append(creds['username'])\n",
        "\n",
        "print(f\"\\n🎉 Successfully created {len(created_accounts)} admin accounts!\")\n",
        "print(f\"Created: {', '.join(created_accounts)}\")\n"
      ]
    },
    {
      "cell_type": "markdown",
      "metadata": {},
      "source": []
    },
    {
      "cell_type": "code",
      "execution_count": 20,
      "metadata": {},
      "outputs": [
        {
          "name": "stdout",
          "output_type": "stream",
          "text": [
            "🔍 Testing login with existing accounts...\n",
            "==================================================\n",
            "\n",
            "Testing login for james...\n",
            "✅ Login successful for james\n",
            "  User ID: 1\n",
            "  Email: james@example.com\n",
            "  Name: James Trapp\n",
            "\n",
            "Testing login for admin...\n",
            "✅ Login successful for admin\n",
            "  User ID: 2\n",
            "  Email: admin@example.com\n",
            "  Name: Admin User\n",
            "\n",
            "🎉 Admin accounts are ready to use!\n",
            "You can now login at /#/admin with these credentials.\n"
          ]
        }
      ],
      "source": [
        "# Check if accounts already exist and test login\n",
        "def test_admin_login(username, password):\n",
        "    \"\"\"Test if we can login with the admin credentials\"\"\"\n",
        "    url = f\"{SERVER_URL}/api/login\"\n",
        "    \n",
        "    try:\n",
        "        response = requests.post(url, json={\"username\": username, \"password\": password})\n",
        "        \n",
        "        if response.status_code == 200:\n",
        "            print(f\"✅ Login successful for {username}\")\n",
        "            return response.json()\n",
        "        else:\n",
        "            error_data = response.json()\n",
        "            print(f\"❌ Login failed for {username}: {error_data}\")\n",
        "            return None\n",
        "            \n",
        "    except Exception as e:\n",
        "        print(f\"❌ Error testing login for {username}: {e}\")\n",
        "        return None\n",
        "\n",
        "print(\"🔍 Testing login with existing accounts...\")\n",
        "print(\"=\" * 50)\n",
        "\n",
        "# Test login with the credentials from the notebook\n",
        "for user, creds in ADMIN_CREDENTIALS.items():\n",
        "    print(f\"\\nTesting login for {creds['username']}...\")\n",
        "    result = test_admin_login(creds['username'], creds['password'])\n",
        "    if result:\n",
        "        print(f\"  User ID: {result.get('id')}\")\n",
        "        print(f\"  Email: {result.get('email')}\")\n",
        "        print(f\"  Name: {result.get('first_name')} {result.get('last_name')}\")\n",
        "\n",
        "print(\"\\n🎉 Admin accounts are ready to use!\")\n",
        "print(\"You can now login at /#/admin with these credentials.\")\n"
      ]
    }
  ],
  "metadata": {
    "kernelspec": {
      "display_name": ".venv",
      "language": "python",
      "name": "python3"
    },
    "language_info": {
      "codemirror_mode": {
        "name": "ipython",
        "version": 3
      },
      "file_extension": ".py",
      "mimetype": "text/x-python",
      "name": "python",
      "nbconvert_exporter": "python",
      "pygments_lexer": "ipython3",
      "version": "3.8.13"
    }
  },
  "nbformat": 4,
  "nbformat_minor": 2
}
